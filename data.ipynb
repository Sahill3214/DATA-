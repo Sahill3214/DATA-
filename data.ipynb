{
  "nbformat": 4,
  "nbformat_minor": 0,
  "metadata": {
    "colab": {
      "provenance": []
    },
    "kernelspec": {
      "name": "python3",
      "display_name": "Python 3"
    },
    "language_info": {
      "name": "python"
    }
  },
  "cells": [
    {
      "cell_type": "markdown",
      "source": [],
      "metadata": {
        "id": "apX_xkS844vO"
      }
    },
    {
      "cell_type": "markdown",
      "source": [
        "Q.1) SOLUTION BELOW"
      ],
      "metadata": {
        "id": "vlyH1Vot48Sr"
      }
    },
    {
      "cell_type": "code",
      "execution_count": null,
      "metadata": {
        "id": "UGqGBJ6TtOFY"
      },
      "outputs": [],
      "source": [
        "def reverse_string(string):\n",
        "  \"\"\"Reverses a given string.\n",
        "\n",
        "  Args:\n",
        "    string: The string to be reversed.\n",
        "\n",
        "  Returns:\n",
        "    The reversed string.\n",
        "  \"\"\"\n",
        "\n",
        "  reversed_string = \"\"\n",
        "  for char in string[::-1]:\n",
        "    reversed_string += char\n",
        "  return reversed_string"
      ]
    },
    {
      "cell_type": "markdown",
      "source": [
        "Q.2) SOLUTION BELOW"
      ],
      "metadata": {
        "id": "zo0wyDiw5Obc"
      }
    },
    {
      "cell_type": "code",
      "source": [
        "def count_vowels(s):\n",
        "    vowels = \"aeiouAEIOU\"  # List of vowels (both lowercase and uppercase)\n",
        "    count = 0\n",
        "\n",
        "    # Iterate through each character in the string\n",
        "    for char in s:\n",
        "        if char in vowels:\n",
        "            count += 1\n",
        "\n",
        "    return count\n",
        "\n",
        "# Example usage\n",
        "input_string = \"Hello, how many vowels are in this sentence?\"\n",
        "result = count_vowels(input_string)\n",
        "print(f\"The number of vowels in the string is: {result}\")\n"
      ],
      "metadata": {
        "colab": {
          "base_uri": "https://localhost:8080/"
        },
        "id": "jU7pZShy5EO8",
        "outputId": "ada12407-acba-4547-92df-c0b26d9ac9d1"
      },
      "execution_count": null,
      "outputs": [
        {
          "output_type": "stream",
          "name": "stdout",
          "text": [
            "The number of vowels in the string is: 13\n"
          ]
        }
      ]
    },
    {
      "cell_type": "markdown",
      "source": [
        "Q.3) SOLUTION BELOW"
      ],
      "metadata": {
        "id": "e2jW968W5SO5"
      }
    },
    {
      "cell_type": "code",
      "source": [
        "def is_palindrome(s):\n",
        "    # Remove spaces and convert to lowercase for uniform comparison\n",
        "    s = s.replace(\" \", \"\").lower()\n",
        "\n",
        "    # Compare the string with its reverse\n",
        "    return s == s[::-1]\n",
        "\n",
        "# Example usage\n",
        "input_string = \"A man a plan a canal Panama\"\n",
        "if is_palindrome(input_string):\n",
        "    print(f\"'{input_string}' is a palindrome.\")\n",
        "else:\n",
        "    print(f\"'{input_string}' is not a palindrome.\")\n"
      ],
      "metadata": {
        "colab": {
          "base_uri": "https://localhost:8080/"
        },
        "id": "5140aSZj5Q3X",
        "outputId": "243e3624-8abf-47b4-ab6e-8141932235ae"
      },
      "execution_count": null,
      "outputs": [
        {
          "output_type": "stream",
          "name": "stdout",
          "text": [
            "'A man a plan a canal Panama' is a palindrome.\n"
          ]
        }
      ]
    },
    {
      "cell_type": "markdown",
      "source": [
        "Q,4) SOLUTION BELOW"
      ],
      "metadata": {
        "id": "TMxx-r445hzE"
      }
    },
    {
      "cell_type": "code",
      "source": [
        "def are_anagrams(str1, str2):\n",
        "    # Remove spaces and convert to lowercase to ensure uniform comparison\n",
        "    str1 = str1.replace(\" \", \"\").lower()\n",
        "    str2 = str2.replace(\" \", \"\").lower()\n",
        "\n",
        "    # Check if sorted characters of both strings are the same\n",
        "    return sorted(str1) == sorted(str2)\n",
        "\n",
        "# Example usage\n",
        "string1 = \"Listen\"\n",
        "string2 = \"Silent\"\n",
        "\n",
        "if are_anagrams(string1, string2):\n",
        "    print(f\"'{string1}' and '{string2}' are anagrams.\")\n",
        "else:\n",
        "    print(f\"'{string1}' and '{string2}' are not anagrams.\")\n"
      ],
      "metadata": {
        "colab": {
          "base_uri": "https://localhost:8080/"
        },
        "id": "uigCEaeO5s8V",
        "outputId": "289ec729-4205-4882-8f81-3ef877ca1bb0"
      },
      "execution_count": null,
      "outputs": [
        {
          "output_type": "stream",
          "name": "stdout",
          "text": [
            "'Listen' and 'Silent' are anagrams.\n"
          ]
        }
      ]
    },
    {
      "cell_type": "markdown",
      "source": [
        "Q.5) SOLUTION BELOW"
      ],
      "metadata": {
        "id": "coNOavfm5ih7"
      }
    },
    {
      "cell_type": "code",
      "source": [
        "def find_substring_occurrences(main_string, substring):\n",
        "    # Initialize an empty list to store the starting indices of all occurrences\n",
        "    indices = []\n",
        "\n",
        "    # Start from the beginning of the main_string and search for the substring\n",
        "    start = 0\n",
        "    while True:\n",
        "        # Find the index of the substring starting from 'start'\n",
        "        start = main_string.find(substring, start)\n",
        "\n",
        "        # If no more occurrences are found, break out of the loop\n",
        "        if start == -1:\n",
        "            break\n",
        "\n",
        "        # Append the found index to the list\n",
        "        indices.append(start)\n",
        "\n",
        "        # Move the 'start' pointer one step forward to avoid finding the same occurrence again\n",
        "        start += 1\n",
        "\n",
        "    return indices\n",
        "\n",
        "# Example usage\n",
        "main_string = \"This is a test string. This is another test string.\"\n",
        "substring = \"test\"\n",
        "\n",
        "occurrences = find_substring_occurrences(main_string, substring)\n",
        "if occurrences:\n",
        "    print(f\"The substring '{substring}' occurs at the following indices: {occurrences}\")\n",
        "else:\n",
        "    print(f\"The substring '{substring}' was not found in the main string.\")\n"
      ],
      "metadata": {
        "colab": {
          "base_uri": "https://localhost:8080/"
        },
        "id": "GlO31aT85jCj",
        "outputId": "ebb6fe38-3bb0-4ec7-f773-98e4a81ec5c2"
      },
      "execution_count": null,
      "outputs": [
        {
          "output_type": "stream",
          "name": "stdout",
          "text": [
            "The substring 'test' occurs at the following indices: [10, 39]\n"
          ]
        }
      ]
    },
    {
      "cell_type": "markdown",
      "source": [
        "Q.6) SOLUITON BELOW"
      ],
      "metadata": {
        "id": "YWG-O29T5jcF"
      }
    },
    {
      "cell_type": "code",
      "source": [
        "def compress_string(s):\n",
        "    if not s:\n",
        "        return s  # If the string is empty, return as it is\n",
        "\n",
        "    compressed = []\n",
        "    count = 1  # Initialize count for the first character\n",
        "\n",
        "    # Iterate through the string starting from the second character\n",
        "    for i in range(1, len(s)):\n",
        "        if s[i] == s[i - 1]:  # If the current character is the same as the previous one\n",
        "            count += 1\n",
        "        else:\n",
        "            # Append the character and the count to the compressed list\n",
        "            compressed.append(s[i - 1] + str(count) if count > 1 else s[i - 1])\n",
        "            count = 1  # Reset count for the next character\n",
        "\n",
        "    # Append the last character and its count\n",
        "    compressed.append(s[-1] + str(count) if count > 1 else s[-1])\n",
        "\n",
        "    # Join the list into a string and return the compressed version\n",
        "    return ''.join(compressed)\n",
        "\n",
        "# Example usage\n",
        "input_string = \"11111111\"\n",
        "compressed_string = compress_string(input_string)\n",
        "print(f\"Original string: {input_string}\")\n",
        "print(f\"Compressed string: {compressed_string}\")\n"
      ],
      "metadata": {
        "colab": {
          "base_uri": "https://localhost:8080/"
        },
        "id": "bkt-lgdk545z",
        "outputId": "f9e84a48-d221-49c8-e38d-7fb9d1bd4ef6"
      },
      "execution_count": null,
      "outputs": [
        {
          "output_type": "stream",
          "name": "stdout",
          "text": [
            "Original string: 11111111\n",
            "Compressed string: 18\n"
          ]
        }
      ]
    },
    {
      "cell_type": "markdown",
      "source": [
        "Q.7) SOLUTION BELOW"
      ],
      "metadata": {
        "id": "uD_PF8-k6NmL"
      }
    },
    {
      "cell_type": "code",
      "source": [
        "def has_unique_characters(s):\n",
        "    # Create a set to store characters that we have already encountered\n",
        "    seen_characters = set()\n",
        "\n",
        "    # Iterate through each character in the string\n",
        "    for char in s:\n",
        "        if char in seen_characters:\n",
        "            # If the character is already in the set, the string has duplicates\n",
        "            return False\n",
        "        seen_characters.add(char)  # Add the character to the set\n",
        "\n",
        "    # If no duplicates were found, the string has all unique characters\n",
        "    return True\n",
        "\n",
        "# Example usage\n",
        "input_string = \"abcdef\"\n",
        "if has_unique_characters(input_string):\n",
        "    print(f\"The string '{input_string}' has all unique characters.\")\n",
        "else:\n",
        "    print(f\"The string '{input_string}' does not have all unique characters.\")\n"
      ],
      "metadata": {
        "colab": {
          "base_uri": "https://localhost:8080/"
        },
        "id": "8AHRBkEi5j51",
        "outputId": "1c49ad85-39c1-43ee-ea1c-65088d7b975d"
      },
      "execution_count": null,
      "outputs": [
        {
          "output_type": "stream",
          "name": "stdout",
          "text": [
            "The string 'abcdef' has all unique characters.\n"
          ]
        }
      ]
    },
    {
      "cell_type": "markdown",
      "source": [
        "Q.8) SOLUTION BELOW"
      ],
      "metadata": {
        "id": "KsFErDyo6Od6"
      }
    },
    {
      "cell_type": "code",
      "source": [
        "def convert_case(s, to_upper=True):\n",
        "    if to_upper:\n",
        "        return s.upper()  # Convert to uppercase\n",
        "    else:\n",
        "        return s.lower()  # Convert to lowercase\n",
        "\n",
        "# Example usage\n",
        "input_string = \"Hello, World!\"\n",
        "\n",
        "# Convert to uppercase\n",
        "uppercase_string = convert_case(input_string, to_upper=True)\n",
        "print(f\"Uppercase: {uppercase_string}\")\n",
        "\n",
        "# Convert to lowercase\n",
        "lowercase_string = convert_case(input_string, to_upper=False)\n",
        "print(f\"Lowercase: {lowercase_string}\")\n"
      ],
      "metadata": {
        "colab": {
          "base_uri": "https://localhost:8080/"
        },
        "id": "92K8YGbZ6O9F",
        "outputId": "97137b24-8e36-4f4b-f3e5-bfa09fc1e793"
      },
      "execution_count": null,
      "outputs": [
        {
          "output_type": "stream",
          "name": "stdout",
          "text": [
            "Uppercase: HELLO, WORLD!\n",
            "Lowercase: hello, world!\n"
          ]
        }
      ]
    },
    {
      "cell_type": "markdown",
      "source": [
        "Q.9) SOLUTION BELOW"
      ],
      "metadata": {
        "id": "YcAK4UdE6PVy"
      }
    },
    {
      "cell_type": "code",
      "source": [
        "def count_words(s):\n",
        "    # Strip leading/trailing spaces and split the string by whitespace\n",
        "    words = s.split()\n",
        "\n",
        "    # Return the number of words\n",
        "    return len(words)\n",
        "\n",
        "# Example usage\n",
        "input_string = \"This is an example string.\"\n",
        "word_count = count_words(input_string)\n",
        "print(f\"The number of words in the string is: {word_count}\")\n"
      ],
      "metadata": {
        "colab": {
          "base_uri": "https://localhost:8080/"
        },
        "id": "up8EhO1A6PwK",
        "outputId": "9b44907b-9183-4ea8-c46b-2efecf875265"
      },
      "execution_count": null,
      "outputs": [
        {
          "output_type": "stream",
          "name": "stdout",
          "text": [
            "The number of words in the string is: 5\n"
          ]
        }
      ]
    },
    {
      "cell_type": "markdown",
      "source": [
        "Q.10) SOLUTION BELOW"
      ],
      "metadata": {
        "id": "S0iK7v956tmb"
      }
    },
    {
      "cell_type": "code",
      "source": [
        "def concatenate_strings(str1, str2):\n",
        "    return ''.join([str1, str2])\n",
        "\n",
        "# Example usage\n",
        "string1 = \"Hello\"\n",
        "string2 = \"World\"\n",
        "result = concatenate_strings(string1, string2)\n",
        "print(result)\n"
      ],
      "metadata": {
        "colab": {
          "base_uri": "https://localhost:8080/"
        },
        "id": "q1rDjy9d6swh",
        "outputId": "6c9c4544-d6ac-4c58-dc5a-ff7442a47a15"
      },
      "execution_count": null,
      "outputs": [
        {
          "output_type": "stream",
          "name": "stdout",
          "text": [
            "HelloWorld\n"
          ]
        }
      ]
    },
    {
      "cell_type": "markdown",
      "source": [
        "Q.11) SOLUTION BELOW"
      ],
      "metadata": {
        "id": "BjT5YDSe7K4q"
      }
    },
    {
      "cell_type": "code",
      "source": [
        "def remove_element(lst, element):\n",
        "  \"\"\"Removes all occurrences of a specific element from a list.\n",
        "\n",
        "  Args:\n",
        "    lst: The input list.\n",
        "    element: The element to be removed.\n",
        "\n",
        "  Returns:\n",
        "    The modified list with the element removed.\n",
        "  \"\"\"\n",
        "\n",
        "  return [item for item in lst if item != element]\n",
        "\n",
        "# Example usage:\n",
        "my_list = [1, 2, 3, 2, 4, 2]\n",
        "element_to_remove = 2\n",
        "new_list = remove_element(my_list, element_to_remove)\n",
        "print(new_list)"
      ],
      "metadata": {
        "colab": {
          "base_uri": "https://localhost:8080/"
        },
        "id": "R3o9kJyf669B",
        "outputId": "3f73a19a-3f58-46ba-dc69-a1384a9a3009"
      },
      "execution_count": null,
      "outputs": [
        {
          "output_type": "stream",
          "name": "stdout",
          "text": [
            "[1, 3, 4]\n"
          ]
        }
      ]
    },
    {
      "cell_type": "markdown",
      "source": [
        "Q.12) SOLUTION BELOW"
      ],
      "metadata": {
        "id": "dLEVLaKS7Fr2"
      }
    },
    {
      "cell_type": "code",
      "source": [
        "def find_second_largest(numbers):\n",
        "  \"\"\"Finds the second largest number in a list of integers.\n",
        "\n",
        "  Args:\n",
        "    numbers: A list of integers.\n",
        "\n",
        "  Returns:\n",
        "    The second largest number, or None if the list is empty or has fewer than two elements.\n",
        "  \"\"\"\n",
        "\n",
        "  if len(numbers) < 2:\n",
        "    return None\n",
        "\n",
        "  largest = second_largest = float('-infinity')\n",
        "\n",
        "  for num in numbers:\n",
        "    if num > largest:\n",
        "      second_largest = largest\n",
        "      largest = num\n",
        "    elif num > second_largest and num != largest:\n",
        "      second_largest = num\n",
        "\n",
        "  return second_largest\n",
        "\n",
        "# Example usage:\n",
        "my_list = [12, 45, 23, 67, 34, 89, 21]\n",
        "second_largest_num = find_second_largest(my_list)\n",
        "print(second_largest_num)"
      ],
      "metadata": {
        "colab": {
          "base_uri": "https://localhost:8080/"
        },
        "id": "qUrGtEe17EK2",
        "outputId": "f4ce61a7-dfdd-494e-f677-26878bbea436"
      },
      "execution_count": null,
      "outputs": [
        {
          "output_type": "stream",
          "name": "stdout",
          "text": [
            "67\n"
          ]
        }
      ]
    },
    {
      "cell_type": "markdown",
      "source": [
        "Q.13) SOLUITON BELOW"
      ],
      "metadata": {
        "id": "AYWcK4Gd7Ztj"
      }
    },
    {
      "cell_type": "code",
      "source": [
        "def count_occurrences(lst):\n",
        "  \"\"\"Counts the occurrences of each element in a list.\n",
        "\n",
        "  Args:\n",
        "    lst: The input list.\n",
        "\n",
        "  Returns:\n",
        "    A dictionary with elements as keys and their counts as values.\n",
        "  \"\"\"\n",
        "\n",
        "  counts = {}\n",
        "  for element in lst:\n",
        "    counts[element] = counts.get(element, 0) + 1\n",
        "  return counts\n",
        "\n",
        "# Example usage:\n",
        "my_list = [1, 2, 3, 2, 1, 4, 5, 1]\n",
        "result = count_occurrences(my_list)\n",
        "print(result)"
      ],
      "metadata": {
        "colab": {
          "base_uri": "https://localhost:8080/"
        },
        "id": "nrje6cn37Ybw",
        "outputId": "fa699776-3b34-4b99-90d3-7f1614275a06"
      },
      "execution_count": null,
      "outputs": [
        {
          "output_type": "stream",
          "name": "stdout",
          "text": [
            "{1: 3, 2: 2, 3: 1, 4: 1, 5: 1}\n"
          ]
        }
      ]
    },
    {
      "cell_type": "markdown",
      "source": [
        "Q.14) SOLUTION BELOW"
      ],
      "metadata": {
        "id": "-0x-mks47cXM"
      }
    },
    {
      "cell_type": "code",
      "source": [
        "def reverse_list_in_place(lst):\n",
        "  \"\"\"Reverses a list in-place without using built-in reverse functions.\n",
        "\n",
        "  Args:\n",
        "    lst: The list to be reversed.\n",
        "  \"\"\"\n",
        "\n",
        "  left, right = 0, len(lst) - 1\n",
        "  while left < right:\n",
        "    lst[left], lst[right] = lst[right], lst[left]\n",
        "    left += 1\n",
        "    right -= 1\n",
        "\n",
        "# Example usage:\n",
        "my_list = [1, 2, 3, 4, 5]\n",
        "reverse_list_in_place(my_list)\n",
        "print(my_list)"
      ],
      "metadata": {
        "colab": {
          "base_uri": "https://localhost:8080/"
        },
        "id": "BJs5Tf4H7erl",
        "outputId": "5e8847e4-54c0-4894-9cf9-c589d5d0238c"
      },
      "execution_count": null,
      "outputs": [
        {
          "output_type": "stream",
          "name": "stdout",
          "text": [
            "[5, 4, 3, 2, 1]\n"
          ]
        }
      ]
    },
    {
      "cell_type": "markdown",
      "source": [
        "Q.15) SOLUTION BELOW"
      ],
      "metadata": {
        "id": "EhfNUcD97fLQ"
      }
    },
    {
      "cell_type": "code",
      "source": [
        " def remove_duplicates_preserving_order(lst):\n",
        "  \"\"\"Removes duplicates from a list while preserving the original order.\n",
        "\n",
        "  Args:\n",
        "    lst: The input list.\n",
        "\n",
        "  Returns:\n",
        "    A new list with duplicates removed.\n",
        "  \"\"\"\n",
        "\n",
        "  seen = set()\n",
        "  result = []\n",
        "  for item in lst:\n",
        "    if item not in seen:\n",
        "      seen.add(item)\n",
        "      result.append(item)\n",
        "  return result\n",
        "\n",
        "# Example usage:\n",
        "my_list = [1, 2, 3, 2, 1, 4, 5, 1]\n",
        "result = remove_duplicates_preserving_order(my_list)\n",
        "print(result)"
      ],
      "metadata": {
        "colab": {
          "base_uri": "https://localhost:8080/"
        },
        "id": "-Fi156rn7hH9",
        "outputId": "2f77dcac-5bd9-4335-c212-999265f47ab1"
      },
      "execution_count": null,
      "outputs": [
        {
          "output_type": "stream",
          "name": "stdout",
          "text": [
            "[1, 2, 3, 4, 5]\n"
          ]
        }
      ]
    },
    {
      "cell_type": "markdown",
      "source": [
        "Q.16) SOLUTION BELOW"
      ],
      "metadata": {
        "id": "G2ZY2dv87h6C"
      }
    },
    {
      "cell_type": "code",
      "source": [
        "def is_sorted(lst):\n",
        "  \"\"\"Checks if a given list is sorted (ascending or descending).\n",
        "\n",
        "  Args:\n",
        "    lst: The input list.\n",
        "\n",
        "  Returns:\n",
        "    True if the list is sorted, False otherwise.\n",
        "  \"\"\"\n",
        "\n",
        "  ascending = descending = True\n",
        "\n",
        "  for i in range(1, len(lst)):\n",
        "    if lst[i] < lst[i - 1]:\n",
        "      ascending = False\n",
        "    if lst[i] > lst[i - 1]:\n",
        "      descending = False\n",
        "\n",
        "  return ascending or descending\n",
        "\n",
        "# Example usage:\n",
        "my_list1 = [1, 2, 3, 4, 5]\n",
        "my_list2 = [5, 4, 3, 2, 1]\n",
        "my_list3 = [1, 3, 2, 4]\n",
        "\n",
        "print(is_sorted(my_list1))\n",
        "print(is_sorted(my_list2))\n",
        "print(is_sorted(my_list3))"
      ],
      "metadata": {
        "colab": {
          "base_uri": "https://localhost:8080/"
        },
        "id": "JTg_Trxz7kOf",
        "outputId": "55b59831-eed0-42da-f359-097e3e6938b6"
      },
      "execution_count": null,
      "outputs": [
        {
          "output_type": "stream",
          "name": "stdout",
          "text": [
            "True\n",
            "True\n",
            "False\n"
          ]
        }
      ]
    },
    {
      "cell_type": "markdown",
      "source": [
        "Q.17) SOLUTION BELOW|"
      ],
      "metadata": {
        "id": "lGK4lUK_7kxl"
      }
    },
    {
      "cell_type": "code",
      "source": [
        "def merge_sorted_lists(list1, list2):\n",
        "  \"\"\"Merges two sorted lists into a single sorted list.\n",
        "\n",
        "  Args:\n",
        "    list1: The first sorted list.\n",
        "    list2: The second sorted list.\n",
        "\n",
        "  Returns:\n",
        "    A new sorted list containing elements from both input lists.\n",
        "  \"\"\"\n",
        "\n",
        "  merged_list = []\n",
        "  i = j = 0\n",
        "\n",
        "  while i < len(list1) and j < len(list2):\n",
        "    if list1[i] < list2[j]:\n",
        "      merged_list.append(list1[i])\n",
        "      i += 1\n",
        "    else:\n",
        "      merged_list.append(list2[j])\n",
        "      j += 1\n",
        "\n",
        "  # Append remaining elements from either list\n",
        "  merged_list.extend(list1[i:])\n",
        "  merged_list.extend(list2[j:])\n",
        "\n",
        "  return merged_list\n",
        "\n",
        "# Example usage:\n",
        "list1 = [1, 3, 5, 7]\n",
        "list2 = [2, 4, 6, 8]\n",
        "merged_list = merge_sorted_lists(list1, list2)\n",
        "print(merged_list)"
      ],
      "metadata": {
        "colab": {
          "base_uri": "https://localhost:8080/"
        },
        "id": "CnSehn157nLY",
        "outputId": "884ce40d-809a-445a-8529-c63852654371"
      },
      "execution_count": null,
      "outputs": [
        {
          "output_type": "stream",
          "name": "stdout",
          "text": [
            "[1, 2, 3, 4, 5, 6, 7, 8]\n"
          ]
        }
      ]
    },
    {
      "cell_type": "markdown",
      "source": [
        "Q.18) SOLUTION BELOW"
      ],
      "metadata": {
        "id": "pJGJVbJ67oAB"
      }
    },
    {
      "cell_type": "code",
      "source": [
        "def intersection(list1, list2):\n",
        "  \"\"\"Finds the intersection of two given lists.\n",
        "\n",
        "  Args:\n",
        "    list1: The first list.\n",
        "    list2: The second list.\n",
        "\n",
        "  Returns:\n",
        "    A new list containing the common elements.\n",
        "  \"\"\"\n",
        "\n",
        "  set1 = set(list1)\n",
        "  set2 = set(list2)\n",
        "  intersection_set = set1.intersection(set2)\n",
        "  return list(intersection_set)\n",
        "\n",
        "# Example usage:\n",
        "list1 = [1, 2, 3, 4, 5]\n",
        "list2 = [3, 4, 5, 6, 7]\n",
        "intersection_list = intersection(list1, list2)\n",
        "print(intersection_list)"
      ],
      "metadata": {
        "colab": {
          "base_uri": "https://localhost:8080/"
        },
        "id": "MjhG9lqO7qiC",
        "outputId": "7b26bdbb-de9d-499d-abd0-e27edd0bce3f"
      },
      "execution_count": null,
      "outputs": [
        {
          "output_type": "stream",
          "name": "stdout",
          "text": [
            "[3, 4, 5]\n"
          ]
        }
      ]
    },
    {
      "cell_type": "markdown",
      "source": [
        "Q.19) SOLUTION BELOW"
      ],
      "metadata": {
        "id": "h7LlY6uj7rLm"
      }
    },
    {
      "cell_type": "code",
      "source": [
        "def union(list1, list2):\n",
        "  \"\"\"Finds the union of two lists without duplicates.\n",
        "\n",
        "  Args:\n",
        "    list1: The first list.\n",
        "    list2: The second list.\n",
        "\n",
        "  Returns:\n",
        "    A new list containing the unique elements from both lists.\n",
        "  \"\"\"\n",
        "\n",
        "  union_set = set(list1 + list2)\n",
        "  return list(union_set)\n",
        "\n",
        "# Example usage:\n",
        "list1 = [1, 2, 3, 4, 5]\n",
        "list2 = [3, 4, 5, 6, 7]\n",
        "union_list = union(list1, list2)\n",
        "print(union_list)"
      ],
      "metadata": {
        "colab": {
          "base_uri": "https://localhost:8080/"
        },
        "id": "GAU_7DuM7t1W",
        "outputId": "1b3005e2-0113-4438-d517-014934d873fd"
      },
      "execution_count": null,
      "outputs": [
        {
          "output_type": "stream",
          "name": "stdout",
          "text": [
            "[1, 2, 3, 4, 5, 6, 7]\n"
          ]
        }
      ]
    },
    {
      "cell_type": "markdown",
      "source": [
        "Q.20) SOLUTION BELOW"
      ],
      "metadata": {
        "id": "Bam7-EhX7vFz"
      }
    },
    {
      "cell_type": "code",
      "source": [
        "def union(list1, list2):\n",
        "  \"\"\"Finds the union of two lists without duplicates.\n",
        "\n",
        "  Args:\n",
        "    list1: The first list.\n",
        "    list2: The second list.\n",
        "\n",
        "  Returns:\n",
        "    A new list containing the unique elements from both lists.\n",
        "  \"\"\"\n",
        "\n",
        "  union_set = set(list1 + list2)\n",
        "  return list(union_set)\n",
        "\n",
        "# Example usage\n",
        "list1 = [1, 2, 3, 4, 5]\n",
        "list2 = [3, 4, 5, 6, 7]\n",
        "union_list = union(list1, list2)\n",
        "print(union_list)"
      ],
      "metadata": {
        "colab": {
          "base_uri": "https://localhost:8080/"
        },
        "id": "eRAZ4iu17yx3",
        "outputId": "56154f58-d4fd-4549-f52e-faf993cb44ab"
      },
      "execution_count": null,
      "outputs": [
        {
          "output_type": "stream",
          "name": "stdout",
          "text": [
            "[1, 2, 3, 4, 5, 6, 7]\n"
          ]
        }
      ]
    },
    {
      "cell_type": "markdown",
      "source": [
        "Q.21) SOLUTION BELOW"
      ],
      "metadata": {
        "id": "CUSlDgaY88hV"
      }
    },
    {
      "cell_type": "code",
      "source": [
        "def common_elements(tuple1, tuple2):\n",
        "  \"\"\"Finds common elements between two tuples.\n",
        "\n",
        "  Args:\n",
        "    tuple1: The first tuple.\n",
        "    tuple2: The second tuple.\n",
        "\n",
        "  Returns:\n",
        "    A new tuple containing common elements.\n",
        "  \"\"\"\n",
        "\n",
        "  set1 = set(tuple1)\n",
        "  set2 = set(tuple2)\n",
        "  common_set = set1.intersection(set2)\n",
        "  return tuple(common_set)\n",
        "\n",
        "# Example usage:\n",
        "tuple1 = (1, 2, 3, 4, 5)\n",
        "tuple2 = (3, 4, 5, 6, 7)\n",
        "common_tuple = common_elements(tuple1, tuple2)\n",
        "print(common_tuple)"
      ],
      "metadata": {
        "colab": {
          "base_uri": "https://localhost:8080/"
        },
        "id": "53YEk_wX8644",
        "outputId": "61874e87-2e55-4129-ea00-3ce78a75fec0"
      },
      "execution_count": null,
      "outputs": [
        {
          "output_type": "stream",
          "name": "stdout",
          "text": [
            "(3, 4, 5)\n"
          ]
        }
      ]
    },
    {
      "cell_type": "markdown",
      "source": [
        "Q.22) SOLUTION BELOW"
      ],
      "metadata": {
        "id": "wpmt1Cwh88_r"
      }
    },
    {
      "cell_type": "code",
      "source": [
        "def get_intersection(set1, set2):\n",
        "  \"\"\"Finds the intersection of two sets.\n",
        "\n",
        "  Args:\n",
        "    set1: The first set of integers.\n",
        "    set2: The second set of integers.\n",
        "\n",
        "  Returns:\n",
        "    The intersection of the two sets.\n",
        "  \"\"\"\n",
        "\n",
        "  return set1.intersection(set2)\n",
        "\n",
        "def main():\n",
        "  \"\"\"Prompts the user for input, finds the intersection, and prints the result.\"\"\"\n",
        "\n",
        "  input1 = input(\"Enter the first set of integers, separated by commas: \")\n",
        "  input2 = input(\"Enter the second set of integers, separated by commas: \")\n",
        "\n",
        "  set1 = set(int(num) for num in input1.split(','))\n",
        "  set2 = set(int(num) for num in input2.split(','))\n",
        "\n",
        "  intersection_set = get_intersection(set1, set2)\n",
        "  print(\"Intersection:\", intersection_set)\n",
        "\n",
        "if __name__ == \"__main__\":\n",
        "  main()"
      ],
      "metadata": {
        "id": "YDTDi29J8-GQ"
      },
      "execution_count": null,
      "outputs": []
    },
    {
      "cell_type": "markdown",
      "source": [
        "Q.23) SOLUTION BELOW"
      ],
      "metadata": {
        "id": "O7tT4jDX8-cc"
      }
    },
    {
      "cell_type": "code",
      "source": [
        "def concatenate_tuples(tuple1, tuple2):\n",
        "  \"\"\"Concatenates two tuples.\n",
        "\n",
        "  Args:\n",
        "    tuple1: The first tuple.\n",
        "    tuple2: The second tuple.\n",
        "\n",
        "  Returns:\n",
        "    A new tuple containing elements from both input tuples.\n",
        "  \"\"\"\n",
        "\n",
        "  return tuple1 + tuple2\n",
        "\n",
        "# Example usage:\n",
        "tuple1 = (1, 2, 3)\n",
        "tuple2 = (4, 5, 6)\n",
        "result = concatenate_tuples(tuple1, tuple2)\n",
        "print(result)"
      ],
      "metadata": {
        "id": "dhafUn3Q8-zc"
      },
      "execution_count": null,
      "outputs": []
    },
    {
      "cell_type": "markdown",
      "source": [
        "Q.24) SOLUTION BELOW"
      ],
      "metadata": {
        "id": "4QjsKcVJ8_dC"
      }
    },
    {
      "cell_type": "code",
      "source": [
        "def find_difference(set1, set2):\n",
        "  \"\"\"Finds the elements in set1 that are not in set2.\n",
        "\n",
        "  Args:\n",
        "    set1: The first set of strings.\n",
        "    set2: The second set of strings.\n",
        "\n",
        "  Returns:\n",
        "    A set containing the elements present in set1 but not in set2.\n",
        "  \"\"\"\n",
        "\n",
        "  return set1.difference(set2)\n",
        "\n",
        "def main():\n",
        "  \"\"\"Prompts the user for input, finds the difference, and prints the result.\"\"\"\n",
        "\n",
        "  input1 = input(\"Enter the first set of strings, separated by commas: \")\n",
        "  input2 = input(\"Enter the second set of strings, separated by commas: \")\n",
        "\n",
        "  set1 = set(input1.split(','))\n",
        "  set2 = set(input2.split(','))\n",
        "\n",
        "  difference_set = find_difference(set1, set2)\n",
        "  print(\"Elements in the first set but not in the second:\", difference_set)\n",
        "\n",
        "if __name__ == \"__main__\":\n",
        "  main()"
      ],
      "metadata": {
        "id": "doKe4Xoo8_1v"
      },
      "execution_count": null,
      "outputs": []
    },
    {
      "cell_type": "markdown",
      "source": [
        "Q.25) SOLUTION BELOW"
      ],
      "metadata": {
        "id": "Z0Rw-SYJ9AVZ"
      }
    },
    {
      "cell_type": "code",
      "source": [
        "def slice_tuple(tuple1, start, end):\n",
        "  \"\"\"Slices a tuple within a specified range.\n",
        "\n",
        "  Args:\n",
        "    tuple1: The input tuple.\n",
        "    start: The starting index (inclusive).\n",
        "    end: The ending index (exclusive).\n",
        "\n",
        "  Returns:\n",
        "    A new tuple containing elements within the specified range.\n",
        "  \"\"\"\n",
        "\n",
        "  return tuple1[start:end]\n",
        "\n",
        "# Example usage:\n",
        "my_tuple = (1, 2, 3, 4, 5, 6, 7)\n",
        "start_index = 2\n",
        "end_index = 5\n",
        "sliced_tuple = slice_tuple(my_tuple, start_index, end_index)\n",
        "print(sliced_tuple)"
      ],
      "metadata": {
        "id": "NUBJf4Ni9BAL",
        "colab": {
          "base_uri": "https://localhost:8080/"
        },
        "outputId": "cbd71c8c-c125-4078-8ab5-7aa61f96e3b0"
      },
      "execution_count": 1,
      "outputs": [
        {
          "output_type": "stream",
          "name": "stdout",
          "text": [
            "(3, 4, 5)\n"
          ]
        }
      ]
    },
    {
      "cell_type": "markdown",
      "source": [
        "Q.26) SOLUTION BELOW"
      ],
      "metadata": {
        "id": "2Ibw7u7I9Bbg"
      }
    },
    {
      "cell_type": "code",
      "source": [
        "def get_union(set1, set2):\n",
        "  \"\"\"Finds the union of two sets of characters.\n",
        "\n",
        "  Args:\n",
        "    set1: The first set of characters.\n",
        "    set2: The second set of characters.\n",
        "\n",
        "  Returns:\n",
        "    The union of the two sets.\n",
        "  \"\"\"\n",
        "\n",
        "  return set1.union(set2)\n",
        "\n",
        "def main():\n",
        "  \"\"\"Prompts the user for input, finds the union, and prints the result.\"\"\"\n",
        "\n",
        "  input1 = input(\"Enter the first set of characters, separated by commas: \")\n",
        "  input2 = input(\"Enter the second set of characters, separated by commas: \")\n",
        "\n",
        "  set1 = set(input1.split(','))\n",
        "  set2 = set(input2.split(','))\n",
        "\n",
        "  union_set = get_union(set1, set2)\n",
        "  print(\"Union:\", union_set)\n",
        "\n",
        "if __name__ == \"__main__\":\n",
        "  main()"
      ],
      "metadata": {
        "id": "MHg8PfF99B5W"
      },
      "execution_count": null,
      "outputs": []
    },
    {
      "cell_type": "markdown",
      "source": [
        "Q.27) SOLUTION BELOW"
      ],
      "metadata": {
        "id": "eqZ1o-Bs9Cyq"
      }
    },
    {
      "cell_type": "code",
      "source": [
        "def find_max_min(tuple1):\n",
        "  \"\"\"Finds the maximum and minimum values in a tuple.\n",
        "\n",
        "  Args:\n",
        "    tuple1: The input tuple.\n",
        "\n",
        "  Returns:\n",
        "    A tuple containing the maximum and minimum values.\n",
        "  \"\"\"\n",
        "\n",
        "  max_value = min_value = tuple1[0]\n",
        "\n",
        "  for num in tuple1:\n",
        "    max_value = max(max_value, num)\n",
        "    min_value = min(min_value, num)\n",
        "\n",
        "  return max_value, min_value\n",
        "\n",
        "# Example usage:\n",
        "my_tuple = (10, 5, 20, 15, 8)\n",
        "max_num, min_num = find_max_min(my_tuple)\n",
        "print(\"Maximum value:\", max_num)\n",
        "print(\"Minimum value:\", min_num)"
      ],
      "metadata": {
        "id": "RM7C55UF9DWe"
      },
      "execution_count": null,
      "outputs": []
    },
    {
      "cell_type": "markdown",
      "source": [
        "Q.28) SOLUTION BELOW"
      ],
      "metadata": {
        "id": "GrXptSTz3126"
      }
    },
    {
      "cell_type": "code",
      "source": [
        "def main():\n",
        "  \"\"\"Defines two sets of integers and prints their union, intersection, and difference.\"\"\"\n",
        "\n",
        "  set1 = {1, 2, 3, 4, 5}\n",
        "  set2 = {3, 4, 5, 6, 7}\n",
        "\n",
        "  # Union\n",
        "  union_set = set1.union(set2)\n",
        "  print(\"Union:\", union_set)\n",
        "\n",
        "  # Intersection\n",
        "  intersection_set = set1.intersection(set2)\n",
        "  print(\"Intersection:\", intersection_set)\n",
        "\n",
        "  # Difference 1  (elements in set1 but not in set2)\n",
        "  difference_set = set1.difference(set2)\n",
        "  print(\"Difference (set1 - set2):\", difference_set)\n",
        "\n",
        "if __name__ == \"__main__\":\n",
        "  main()"
      ],
      "metadata": {
        "id": "OsuZIbB44Ea7"
      },
      "execution_count": null,
      "outputs": []
    },
    {
      "cell_type": "markdown",
      "source": [
        "Q,29) SOLUTION BELOW"
      ],
      "metadata": {
        "id": "joMQtda732Z-"
      }
    },
    {
      "cell_type": "code",
      "source": [
        "def count_occurrences(tuple1, element):\n",
        "  \"\"\"Counts the occurrences of an element in a tuple.\n",
        "\n",
        "  Args:\n",
        "    tuple1: The input tuple.\n",
        "    element: The element to count.\n",
        "\n",
        "  Returns:\n",
        "    The number of occurrences of the element in the tuple.\n",
        "  \"\"\"\n",
        "\n",
        "  count = 0\n",
        "  for item in tuple1:\n",
        "    if item == element:\n",
        "      count += 1\n",
        "  return count\n",
        "\n",
        "# Example usage:\n",
        "my_tuple = (1, 2, 3, 2, 1, 4, 5, 1)\n",
        "element_to_count = 1\n",
        "occurrences = count_occurrences(my_tuple, element_to_count)\n",
        "print(\"Number of occurrences:\", occurrences)"
      ],
      "metadata": {
        "id": "gLWph0P333IO"
      },
      "execution_count": null,
      "outputs": []
    },
    {
      "cell_type": "markdown",
      "source": [
        "Q,30) SOLUTION BELOW"
      ],
      "metadata": {
        "id": "wLYgDzHx4esH"
      }
    },
    {
      "cell_type": "code",
      "source": [
        "def symmetric_difference(set1, set2):\n",
        "  \"\"\"Finds the symmetric difference of two sets.\n",
        "\n",
        "  Args:\n",
        "    set1: The first set of strings.\n",
        "    set2: The second set of strings.\n",
        "\n",
        "  Returns:\n",
        "    The symmetric difference of the two sets.\n",
        "  \"\"\"\n",
        "\n",
        "  return set1.symmetric_difference(set2)\n",
        "\n",
        "def main():\n",
        "  \"\"\"Prompts the user for input, finds the symmetric difference, and prints the result.\"\"\"\n",
        "\n",
        "  input1 = input(\"Enter the first set of strings, separated by commas: \")\n",
        "  input2 = input(\"Enter the second set of strings, separated by commas: \")\n",
        "\n",
        "  set1 = set(input1.split(','))\n",
        "  set2 = set(input2.split(','))\n",
        "\n",
        "  symmetric_difference_set = symmetric_difference(set1, set2)\n",
        "  print(\"Symmetric difference:\", symmetric_difference_set)\n",
        "\n",
        "if __name__ == \"__main__\":\n",
        "  main()"
      ],
      "metadata": {
        "id": "xRXjqoUf4aDD"
      },
      "execution_count": null,
      "outputs": []
    },
    {
      "cell_type": "markdown",
      "source": [
        "Q,31) SOLUTION BELOW"
      ],
      "metadata": {
        "id": "NSniEXH44fKA"
      }
    },
    {
      "cell_type": "code",
      "source": [
        "def word_frequencies(word_list):\n",
        "  \"\"\"Counts the frequency of each word in a list.\n",
        "\n",
        "  Args:\n",
        "    word_list: A list of words.\n",
        "\n",
        "  Returns:\n",
        "    A dictionary where keys are words and values are their frequencies.\n",
        "  \"\"\"\n",
        "\n",
        "  word_count = {}\n",
        "  for word in word_list:\n",
        "    word_count[word] = word_count.get(word, 0) + 1\n",
        "  return word_count\n",
        "\n",
        "# Example usage:\n",
        "words = [\"apple\", \"banana\", \"apple\", \"orange\", \"banana\", \"apple\"]\n",
        "word_freq = word_frequencies(words)\n",
        "print(word_freq)"
      ],
      "metadata": {
        "id": "ht8lNzQC5GDd"
      },
      "execution_count": null,
      "outputs": []
    },
    {
      "cell_type": "markdown",
      "source": [
        "Q.32) SOLUTION BELOW"
      ],
      "metadata": {
        "id": "EPeE93t44gSb"
      }
    },
    {
      "cell_type": "code",
      "source": [
        "def merge_dictionaries(dict1, dict2):\n",
        "  \"\"\"Merges two dictionaries, adding values for common keys.\n",
        "\n",
        "  Args:\n",
        "    dict1: The first dictionary.\n",
        "    dict2: The second dictionary.\n",
        "\n",
        "  Returns:\n",
        "    A new dictionary with merged keys and values.\n",
        "  \"\"\"\n",
        "\n",
        "  merged_dict = dict1.copy()\n",
        "  for key, value in dict2.items():\n",
        "    merged_dict[key] = merged_dict.get(key, 0) + value\n",
        "  return merged_dict\n",
        "\n",
        "# Example usage:\n",
        "dict1 = {'a': 1, 'b': 2, 'c': 3}\n",
        "dict2 = {'b': 4, 'd': 5}\n",
        "merged_dict = merge_dictionaries(dict1, dict2)\n",
        "print(merged_dict)"
      ],
      "metadata": {
        "id": "v255KVUz4grS"
      },
      "execution_count": null,
      "outputs": []
    },
    {
      "cell_type": "markdown",
      "source": [
        "Q.33) SOLUTION BELOW"
      ],
      "metadata": {
        "id": "FeyJ5Cox4hE3"
      }
    },
    {
      "cell_type": "code",
      "source": [
        "def access_nested_value(dictionary, keys):\n",
        "  \"\"\"Accesses a nested value in a dictionary.\n",
        "\n",
        "  Args:\n",
        "    dictionary: The input dictionary.\n",
        "    keys: A list of keys to access the nested value.\n",
        "\n",
        "  Returns:\n",
        "    The value at the specified nested location, or None if any key is not found.\n",
        "  \"\"\"\n",
        "\n",
        "  value = dictionary\n",
        "  for key in keys:\n",
        "    if key in value:\n",
        "      value = value[key]\n",
        "    else:\n",
        "      return None\n",
        "  return value\n",
        "\n",
        "# Example usage:\n",
        "nested_dict = {\n",
        "    'a': {\n",
        "        'b': {\n",
        "            'c': 10\n",
        "        }\n",
        "    }\n",
        "}\n",
        "\n",
        "keys_to_access = ['a', 'b', 'c']\n",
        "result = access_nested_value(nested_dict, keys_to_access)\n",
        "print(result)\n",
        "\n",
        "keys_to_access = ['a', 'x', 'c']\n",
        "result = access_nested_value(nested_dict, keys_to_access)\n",
        "print(result)"
      ],
      "metadata": {
        "id": "HkG7Pdh54hgP"
      },
      "execution_count": null,
      "outputs": []
    },
    {
      "cell_type": "markdown",
      "source": [
        "Q.34) SOLUTION BELOW"
      ],
      "metadata": {
        "id": "gU2bCH__4iCO"
      }
    },
    {
      "cell_type": "code",
      "source": [
        "def sort_dict_by_values(dictionary, ascending=True):\n",
        "  \"\"\"Sorts a dictionary by its values.\n",
        "\n",
        "  Args:\n",
        "    dictionary: The input dictionary.\n",
        "    ascending: Whether to sort in ascending order (True) or descending order (False).\n",
        "\n",
        "  Returns:\n",
        "    A list of tuples, where each tuple contains a key-value pair from the sorted dictionary.\n",
        "  \"\"\"\n",
        "\n",
        "  sorted_items = sorted(dictionary.items(), key=lambda x: x[1], reverse=not ascending)\n",
        "  return sorted_items\n",
        "\n",
        "# Example usage:\n",
        "my_dict = {'a': 3, 'b': 1, 'c': 5, 'd': 2}\n",
        "\n",
        "# Sort in ascending order\n",
        "sorted_asc = sort_dict_by_values(my_dict)\n",
        "print(sorted_asc)\n",
        "\n",
        "# Sort in descending order\n",
        "sorted_desc = sort_dict_by_values(my_dict, False)\n",
        "print(sorted_desc)"
      ],
      "metadata": {
        "id": "rGfl2vsu4ilu"
      },
      "execution_count": null,
      "outputs": []
    },
    {
      "cell_type": "markdown",
      "source": [
        "Q.35) SOLUTION BELOW"
      ],
      "metadata": {
        "id": "tEWqPNUX41Vb"
      }
    },
    {
      "cell_type": "code",
      "source": [
        "def invert_dictionary(dictionary):\n",
        "  \"\"\"Inverts a dictionary, swapping keys and values.\n",
        "\n",
        "  Args:\n",
        "    dictionary: The input dictionary.\n",
        "\n",
        "  Returns:\n",
        "    The inverted dictionary.\n",
        "  \"\"\"\n",
        "\n",
        "  inverted_dict = {}\n",
        "  for key, value in dictionary.items():\n",
        "    if value not in inverted_dict:\n",
        "      inverted_dict[value] = [key]\n",
        "    else:\n",
        "      inverted_dict[value].append(key)\n",
        "  return inverted_dict\n",
        "\n",
        "# Example usage:\n",
        "original_dict = {'a': 1, 'b': 2, 'c': 2, 'd': 1}\n",
        "inverted_dict = invert_dictionary(original_dict)\n",
        "print(inverted_dict)"
      ],
      "metadata": {
        "id": "l3ANvWiz41rZ"
      },
      "execution_count": null,
      "outputs": []
    },
    {
      "cell_type": "code",
      "source": [],
      "metadata": {
        "id": "6-F_eZIf5wEV"
      },
      "execution_count": null,
      "outputs": []
    }
  ]
}